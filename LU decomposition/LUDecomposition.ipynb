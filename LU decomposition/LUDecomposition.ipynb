import numpy as np

def determinan(matrix, variables):
    if(variables == 1):
        #if we had just one variable
        return matrix[0][0]
    
    elif(variables == 2):
        #for a 2 * 2 matrix
        return matrix[0][0] * matrix[1][1] - matrix[0][1] * matrix[1][0]
    
    det = 0
    for first_num in range(variables):
        zarib = []
        for rows in range(1, variables):
            selected_nums = []
            for cols in range(variables):
                if(cols != first_num):
                    selected_nums.append(matrix[rows][cols])
            zarib.append(selected_nums)
        sign = (-1) ** first_num
        det += sign * matrix[0][first_num] * determinan(zarib, variables - 1)
    return det


def tajzie_LU(matrix, n):
    
    L = np.eye(n)
    U = np.copy(matrix)
    flag = False
    temp = determinan(matrix, n)
    if(temp == 0):
        print("matrix is singular.")
        flag = True
    if(flag != True):
        for i in range(n):
            for j in range(i + 1, n):
                L[j][i] = U[j][i] / U[i][i]
                U[j][i:] = U[j][i:] - L[j][i] * U[i][i:]
    return L, U, flag


def first_part(matrix, constants, n):
    y = np.zeros(n)
    for i in range(n):
        y[i] = constants[i] - np.dot(matrix[i][:i], y[:i])
    return y

def second_part(matrix, constants, n):
    answer = np.zeros(n)
    for i in range(n - 1, -1, -1):
        answer[i] = (constants[i] - np.dot(matrix[i][i + 1:], answer[i + 1:])) / matrix[i][i]
    return answer

print("enter number of variables: ")

n = int(input())
matrix = np.zeros((n, n))
constants = np.zeros((n))

for i in range(n):
    
    matrix[i] = list(map(int, input("enter coefficients: ").split()))
    constants[i] = int(input("enter constant: "))

L, U, flag = tajzie_LU(matrix, len(matrix))

if(flag != True):
    print(L)
    print(U)

    y = first_part(L, constants, len(matrix))
    print(y)
    answer = second_part(U, y, len(U))
    print(answer)
