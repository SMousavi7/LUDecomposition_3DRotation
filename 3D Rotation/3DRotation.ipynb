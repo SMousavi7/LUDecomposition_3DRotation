import numpy as np
import matplotlib.pyplot as plt

def rotated_vertices(str, angle, vertices):
    radian_angle = np.radians(angle)
    if(str == 'x'):
        return np.dot(vertices, np.array([[1, 0, 0], 
                                         [0, np.cos(radian_angle), -np.sin(radian_angle)],
                                         [0, np.sin(radian_angle), np.cos(radian_angle)]])), True
    elif(str == 'y'):
        return np.dot(vertices, np.array([[np.cos(radian_angle), 0, np.sin(radian_angle)], 
                                         [0, 1, 0], 
                                         [-np.sin(radian_angle), 0, np.cos(radian_angle)]])), True
    elif(str == 'z'):
        return np.dot(vertices, np.array([[np.cos(radian_angle), -np.sin(radian_angle), 0], 
                                         [np.sin(radian_angle), np.cos(radian_angle), 0], 
                                         [0, 0, 1]])), True
    else:
        return np.copy(vertices), False

str = input("enter the axis of rotation:")
angle = float(input("enter the angle of rotation:"))
n = int(input("enter the number of vertices: "))
vertices = np.zeros((n, 3))

for i in range(n):
    vertices[i] = list(map(float, input("enter cordinates of vertex:").split(',')))

rotated, flag = rotated_vertices(str, angle, vertices)
if(flag):
    plt.figure()
    print(len(vertices[0]))
    shamatic = plt.axes(projection='3d')


    shamatic.scatter(vertices[:, 0], vertices[:, 1], vertices[:, 2], color = 'g')
    shamatic.scatter(rotated[:, 0], rotated[:, 1], rotated[:, 2], color = 'y')

    shamatic.plot([0, 1], [0, 0], [0, 0], color='r', label='X axis')
    shamatic.plot([0, 0], [0, 1], [0, 0], color='g', label='Y axis')
    shamatic.plot([0, 0], [0, 0], [0, 1], color='b', label='Z axis')


    shamatic.set_xlabel('X')
    shamatic.set_ylabel('Y')
    shamatic.set_zlabel('Z')
    shamatic.legend()

    print(rotated)
    plt.show()
else:
    print("invalid input")
